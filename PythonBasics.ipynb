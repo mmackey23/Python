{
 "cells": [
  {
   "cell_type": "code",
   "execution_count": 1,
   "metadata": {},
   "outputs": [
    {
     "name": "stdout",
     "output_type": "stream",
     "text": [
      "Hello World\n"
     ]
    }
   ],
   "source": [
    "print('Hello World')"
   ]
  },
  {
   "cell_type": "code",
   "execution_count": 2,
   "metadata": {},
   "outputs": [
    {
     "name": "stdout",
     "output_type": "stream",
     "text": [
      "What is your name?Matthew\n",
      "Hello Matthew it is very nice to meet you!\n"
     ]
    }
   ],
   "source": [
    "name = input('What is your name?')\n",
    "\n",
    "print('Hello '+ name +' it is very nice to meet you!')"
   ]
  },
  {
   "cell_type": "code",
   "execution_count": 3,
   "metadata": {},
   "outputs": [
    {
     "name": "stdout",
     "output_type": "stream",
     "text": [
      "how old are you? 27\n",
      "Next year you will be 28 years old!\n"
     ]
    }
   ],
   "source": [
    "age = input('how old are you? ')\n",
    "\n",
    "next_year = int(age) + 1\n",
    "\n",
    "print('Next year you will be '+ str(next_year) + ' years old!')"
   ]
  },
  {
   "cell_type": "code",
   "execution_count": 4,
   "metadata": {},
   "outputs": [
    {
     "name": "stdout",
     "output_type": "stream",
     "text": [
      " how many months have you been coding? 8\n",
      "Wow you would make a great junior level employee!\n"
     ]
    }
   ],
   "source": [
    "question_1 = input(' how many months have you been coding? ')\n",
    "\n",
    "if int(question_1) > 5:\n",
    "    print('Wow you would make a great junior level employee!')\n",
    "else:\n",
    "    print('You should study more!')"
   ]
  },
  {
   "cell_type": "code",
   "execution_count": 5,
   "metadata": {},
   "outputs": [
    {
     "name": "stdout",
     "output_type": "stream",
     "text": [
      "You can only win with coding!\n",
      "Is coding the best way to get ahead in life?yes\n",
      "You can only win with coding!\n",
      "Is coding the best way to get ahead in life?yes\n",
      "You can only win with coding!\n",
      "Is coding the best way to get ahead in life?absolutely\n"
     ]
    }
   ],
   "source": [
    "answer = 'yes'\n",
    "while answer == 'yes':\n",
    "    print('You can only win with coding!')\n",
    "    answer = input('Is coding the best way to get ahead in life?')\n",
    "    "
   ]
  },
  {
   "cell_type": "code",
   "execution_count": null,
   "metadata": {},
   "outputs": [],
   "source": []
  }
 ],
 "metadata": {
  "kernelspec": {
   "display_name": "Python 3",
   "language": "python",
   "name": "python3"
  },
  "language_info": {
   "codemirror_mode": {
    "name": "ipython",
    "version": 3
   },
   "file_extension": ".py",
   "mimetype": "text/x-python",
   "name": "python",
   "nbconvert_exporter": "python",
   "pygments_lexer": "ipython3",
   "version": "3.6.4"
  }
 },
 "nbformat": 4,
 "nbformat_minor": 2
}
