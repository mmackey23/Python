{
 "cells": [
  {
   "cell_type": "markdown",
   "metadata": {},
   "source": [
    "The goal of this project is to create a game using the Python language. The game has the computer pick a random number, and it is up to the user to correctly guess the right number. "
   ]
  },
  {
   "cell_type": "code",
   "execution_count": 1,
   "metadata": {},
   "outputs": [
    {
     "name": "stdout",
     "output_type": "stream",
     "text": [
      "--------------------------\n",
      "GUESS THAT NUMBER GAME\n",
      "--------------------------\n",
      "\n",
      "Guess a number between 0 and 100: 50\n",
      "too high\n",
      "Guess a number between 0 and 100: 40\n",
      "too high\n",
      "Guess a number between 0 and 100: 30\n",
      "too high\n",
      "Guess a number between 0 and 100: 10\n",
      "too low\n",
      "Guess a number between 0 and 100: 25\n",
      "too high\n",
      "Guess a number between 0 and 100: 20\n",
      "too high\n",
      "Guess a number between 0 and 100: 15\n",
      "too high\n",
      "Guess a number between 0 and 100: 11\n",
      "too low\n",
      "Guess a number between 0 and 100: 12\n",
      "too low\n",
      "Guess a number between 0 and 100: 13\n",
      "you win!\n",
      "Done!\n"
     ]
    }
   ],
   "source": [
    "import random\n",
    "\n",
    "print('--------------------------')\n",
    "print('GUESS THAT NUMBER GAME')\n",
    "print('--------------------------')\n",
    "print()\n",
    "\n",
    "the_number =  random.randint(0,100)\n",
    "guess = -1\n",
    "\n",
    "while guess != the_number:\n",
    "    guess_text = input('Guess a number between 0 and 100: ')\n",
    "    guess = int(guess_text)\n",
    "\n",
    "\n",
    "    if guess < the_number:\n",
    "        print('too low')\n",
    "    elif guess > the_number:\n",
    "        print('too high')\n",
    "    else:\n",
    "        print('you win!')\n",
    "\n",
    "print('Done!')"
   ]
  },
  {
   "cell_type": "code",
   "execution_count": null,
   "metadata": {},
   "outputs": [],
   "source": []
  }
 ],
 "metadata": {
  "kernelspec": {
   "display_name": "Python 3",
   "language": "python",
   "name": "python3"
  },
  "language_info": {
   "codemirror_mode": {
    "name": "ipython",
    "version": 3
   },
   "file_extension": ".py",
   "mimetype": "text/x-python",
   "name": "python",
   "nbconvert_exporter": "python",
   "pygments_lexer": "ipython3",
   "version": "3.6.4"
  }
 },
 "nbformat": 4,
 "nbformat_minor": 2
}
