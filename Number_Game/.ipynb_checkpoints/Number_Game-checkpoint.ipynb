{
 "cells": [
  {
   "cell_type": "markdown",
   "metadata": {},
   "source": [
    "The goal of this project is to create a game using the Python language. The game has the computer pick a random number, and it is up to the user to correctly guess the right number. "
   ]
  },
  {
   "cell_type": "code",
   "execution_count": null,
   "metadata": {},
   "outputs": [],
   "source": [
    "import random\n",
    "\n",
    "print('--------------------------')\n",
    "print('GUESS THAT NUMBER GAME')\n",
    "print('--------------------------')\n",
    "print()\n",
    "\n",
    "the_number =  random.randint(0,100)\n",
    "guess = -1\n",
    "\n",
    "name =  input('What is your name? ')\n",
    "\n",
    "while guess != the_number:\n",
    "    guess_text = input('Guess a number between 0 and 100: ')\n",
    "    guess = int(guess_text)\n",
    "\n",
    "\n",
    "    if guess < the_number:\n",
    "        print('Sorry {}, the guess {} was too low! '.format(name, guess))\n",
    "    elif guess > the_number:\n",
    "        print('Sorry {}, the guess {} was too high! '.format(name, guess))\n",
    "    else:\n",
    "        print('Great job {}, you won! The guess of {} was right! '.format(name, guess))\n",
    "\n",
    "print('Done!')"
   ]
  },
  {
   "cell_type": "code",
   "execution_count": null,
   "metadata": {},
   "outputs": [],
   "source": []
  }
 ],
 "metadata": {
  "kernelspec": {
   "display_name": "Python 3",
   "language": "python",
   "name": "python3"
  },
  "language_info": {
   "codemirror_mode": {
    "name": "ipython",
    "version": 3
   },
   "file_extension": ".py",
   "mimetype": "text/x-python",
   "name": "python",
   "nbconvert_exporter": "python",
   "pygments_lexer": "ipython3",
   "version": "3.6.4"
  }
 },
 "nbformat": 4,
 "nbformat_minor": 2
}
