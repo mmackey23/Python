{
 "cells": [
  {
   "cell_type": "markdown",
   "metadata": {},
   "source": [
    "The goal of this project is to create a game using the Python language. The game has the computer pick a random number, and it is up to the user to correctly guess the right number. "
   ]
  },
  {
   "cell_type": "code",
   "execution_count": 1,
   "metadata": {},
   "outputs": [
    {
     "name": "stdout",
     "output_type": "stream",
     "text": [
      "--------------------------\n",
      "GUESS THAT NUMBER GAME\n",
      "--------------------------\n",
      "\n",
      "What is your name? Matthew\n",
      "Guess a number between 0 and 100: 50\n",
      "Sorry Matthew, the guess 50 was too low! \n",
      "Guess a number between 0 and 100: 80\n",
      "Sorry Matthew, the guess 80 was too high! \n",
      "Guess a number between 0 and 100: 60\n",
      "Sorry Matthew, the guess 60 was too low! \n",
      "Guess a number between 0 and 100: 70\n",
      "Sorry Matthew, the guess 70 was too high! \n",
      "Guess a number between 0 and 100: 65\n",
      "Sorry Matthew, the guess 65 was too low! \n",
      "Guess a number between 0 and 100: 66\n",
      "Sorry Matthew, the guess 66 was too low! \n",
      "Guess a number between 0 and 100: 67\n",
      "Great job Matthew, you won! The guess of 67 was right! \n",
      "Done!\n"
     ]
    }
   ],
   "source": [
    "import random\n",
    "\n",
    "print('--------------------------')\n",
    "print('GUESS THAT NUMBER GAME')\n",
    "print('--------------------------')\n",
    "print()\n",
    "\n",
    "the_number =  random.randint(0,100)\n",
    "guess = -1\n",
    "\n",
    "name =  input('What is your name? ')\n",
    "\n",
    "while guess != the_number:\n",
    "    guess_text = input('Guess a number between 0 and 100: ')\n",
    "    guess = int(guess_text)\n",
    "\n",
    "\n",
    "    if guess < the_number:\n",
    "        print('Sorry {}, the guess {} was too low! '.format(name, guess))\n",
    "    elif guess > the_number:\n",
    "        print('Sorry {}, the guess {} was too high! '.format(name, guess))\n",
    "    else:\n",
    "        print('Great job {}, you won! The guess of {} was right! '.format(name, guess))\n",
    "\n",
    "print('Done!')"
   ]
  },
  {
   "cell_type": "code",
   "execution_count": null,
   "metadata": {},
   "outputs": [],
   "source": []
  }
 ],
 "metadata": {
  "kernelspec": {
   "display_name": "Python 3",
   "language": "python",
   "name": "python3"
  },
  "language_info": {
   "codemirror_mode": {
    "name": "ipython",
    "version": 3
   },
   "file_extension": ".py",
   "mimetype": "text/x-python",
   "name": "python",
   "nbconvert_exporter": "python",
   "pygments_lexer": "ipython3",
   "version": "3.6.4"
  }
 },
 "nbformat": 4,
 "nbformat_minor": 2
}
