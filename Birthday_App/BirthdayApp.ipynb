{
 "cells": [
  {
   "cell_type": "markdown",
   "metadata": {},
   "source": [
    "This application is for the user to find out how many days have past since their last birthday, or how many days until their birthday. "
   ]
  },
  {
   "cell_type": "code",
   "execution_count": 1,
   "metadata": {},
   "outputs": [
    {
     "name": "stdout",
     "output_type": "stream",
     "text": [
      "--------------------------------\n",
      "           BIRTHDAY APP         \n",
      "--------------------------------\n",
      "\n",
      "When were you born? \n",
      "Year [YYYY]: 1991\n",
      "Month [MM]: 05\n",
      "Day [DD]: 15\n",
      "You had a birthday 55 days ago this year.\n"
     ]
    }
   ],
   "source": [
    "import datetime\n",
    "\n",
    "def print_header():\n",
    "    print('--------------------------------')\n",
    "    print('           BIRTHDAY APP         ')\n",
    "    print('--------------------------------')\n",
    "    print()\n",
    "\n",
    "def get_birthday_from_user():\n",
    "    print(\"When were you born? \")\n",
    "    year = int(input(\"Year [YYYY]: \"))\n",
    "    month = int(input(\"Month [MM]: \"))\n",
    "    day = int(input(\"Day [DD]: \"))\n",
    "\n",
    "    birthday = datetime.date(year, month, day)\n",
    "    return birthday\n",
    "\n",
    "def compute_days_between_dates(original_date, target_date):\n",
    "    this_year = datetime.date(target_date.year, original_date.month, original_date.day)\n",
    "\n",
    "    dt = this_year - target_date\n",
    "    return dt.days\n",
    "\n",
    "def print_birthday_information(days):\n",
    "    if days < 0:\n",
    "        print(\"You had a birthday {} days ago this year.\".format(-days))\n",
    "    elif days > 0:\n",
    "        print(\"Your birthday is in {} days! \")\n",
    "    else:\n",
    "        print(\"Happy Birthday!\")\n",
    "\n",
    "def main():\n",
    "    print_header()\n",
    "    bday = get_birthday_from_user()\n",
    "    today = datetime.date.today()\n",
    "    number_of_days = compute_days_between_dates(bday, today)\n",
    "    print_birthday_information(number_of_days)\n",
    "\n",
    "main()"
   ]
  },
  {
   "cell_type": "code",
   "execution_count": null,
   "metadata": {},
   "outputs": [],
   "source": []
  }
 ],
 "metadata": {
  "kernelspec": {
   "display_name": "Python 3",
   "language": "python",
   "name": "python3"
  },
  "language_info": {
   "codemirror_mode": {
    "name": "ipython",
    "version": 3
   },
   "file_extension": ".py",
   "mimetype": "text/x-python",
   "name": "python",
   "nbconvert_exporter": "python",
   "pygments_lexer": "ipython3",
   "version": "3.6.4"
  }
 },
 "nbformat": 4,
 "nbformat_minor": 2
}
